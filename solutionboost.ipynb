{
 "cells": [
  {
   "cell_type": "code",
   "execution_count": 11,
   "metadata": {},
   "outputs": [
    {
     "name": "stdout",
     "output_type": "stream",
     "text": [
      "X_train shape: (614, 8), y_train shape: (614,)\n",
      "X_test shape: (154, 8), y_test shape: (154,)\n",
      "Train data preview:\n",
      "      Pregnancies  Glucose  BloodPressure  SkinThickness  Insulin   BMI  \\\n",
      "353            1       90             62             12       43  27.2   \n",
      "711            5      126             78             27       22  29.6   \n",
      "373            2      105             58             40       94  34.9   \n",
      "46             1      146             56              0        0  29.7   \n",
      "682            0       95             64             39      105  44.6   \n",
      "\n",
      "     DiabetesPedigreeFunction  Age  Outcome  \n",
      "353                     0.580   24        0  \n",
      "711                     0.439   40        0  \n",
      "373                     0.225   25        0  \n",
      "46                      0.564   29        0  \n",
      "682                     0.366   22        0  \n",
      "✅ Train and test datasets saved successfully!\n"
     ]
    }
   ],
   "source": [
    "import pandas as pd\n",
    "from sklearn.model_selection import train_test_split\n",
    "\n",
    "# Load dataset from GitHub\n",
    "url = \"https://raw.githubusercontent.com/4GeeksAcademy/decision-tree-project-tutorial/main/diabetes.csv\"\n",
    "df = pd.read_csv(url)\n",
    "\n",
    "# Split features (X) and target (y)\n",
    "X = df.drop(columns=[\"Outcome\"])  \n",
    "y = df[\"Outcome\"]  \n",
    "\n",
    "# Split into 80% train, 20% test\n",
    "X_train, X_test, y_train, y_test = train_test_split(X, y, test_size=0.2, random_state=42, stratify=y)\n",
    "\n",
    "# ✅ Check if X_train and y_train exist\n",
    "print(f\"X_train shape: {X_train.shape}, y_train shape: {y_train.shape}\")\n",
    "print(f\"X_test shape: {X_test.shape}, y_test shape: {y_test.shape}\")\n",
    "\n",
    "# Combine into DataFrames\n",
    "train_data = pd.concat([X_train, y_train], axis=1)\n",
    "test_data = pd.concat([X_test, y_test], axis=1)\n",
    "\n",
    "# ✅ Check if train_data is created\n",
    "print(\"Train data preview:\\n\", train_data.head())\n",
    "\n",
    "\n",
    "import os\n",
    "\n",
    "# Create the folder if it doesn't exist\n",
    "os.makedirs(\"../data/processed\", exist_ok=True)\n",
    "\n",
    "# Now save the files\n",
    "train_data.to_csv(\"../data/processed/clean_train.csv\", index=False)\n",
    "test_data.to_csv(\"../data/processed/clean_test.csv\", index=False)\n",
    "\n",
    "\n",
    "print(\"✅ Train and test datasets saved successfully!\")\n"
   ]
  },
  {
   "cell_type": "code",
   "execution_count": 12,
   "metadata": {},
   "outputs": [],
   "source": [
    "X_train = train_data.drop([\"Outcome\"], axis = 1)\n",
    "y_train = train_data[\"Outcome\"]\n",
    "X_test = test_data.drop([\"Outcome\"], axis = 1)\n",
    "y_test = test_data[\"Outcome\"]"
   ]
  },
  {
   "cell_type": "code",
   "execution_count": 19,
   "metadata": {},
   "outputs": [
    {
     "data": {
      "text/plain": [
       "array([1, 0, 0, 1, 0, 0, 0, 1, 0, 1, 0, 1, 0, 0, 0, 0, 1, 0, 1, 0, 0, 1,\n",
       "       1, 1, 0, 0, 1, 0, 1, 0, 0, 0, 0, 0, 1, 0, 0, 0, 1, 1, 0, 0, 0, 1,\n",
       "       0, 0, 0, 0, 1, 1, 1, 1, 0, 0, 1, 1, 1, 0, 1, 0, 1, 0, 0, 1, 0, 1,\n",
       "       1, 0, 1, 1, 0, 0, 0, 1, 0, 0, 0, 1, 0, 0, 0, 0, 0, 0, 0, 0, 0, 0,\n",
       "       0, 0, 1, 0, 0, 0, 0, 1, 0, 1, 1, 0, 0, 0, 0, 0, 1, 0, 1, 0, 1, 0,\n",
       "       0, 1, 1, 1, 0, 0, 0, 0, 1, 0, 1, 0, 0, 1, 0, 1, 1, 1, 0, 0, 0, 1,\n",
       "       0, 1, 1, 0, 0, 0, 0, 0, 0, 0, 0, 0, 0, 0, 0, 1, 0, 0, 0, 0, 1, 0])"
      ]
     },
     "execution_count": 19,
     "metadata": {},
     "output_type": "execute_result"
    }
   ],
   "source": [
    "from xgboost import XGBClassifier\n",
    "\n",
    "model = XGBClassifier(n_estimators = 200, learning_rate = 0.05, random_state = 42)\n",
    "model.fit(X_train, y_train)\n",
    "y_pred = model.predict(X_test)\n",
    "y_pred\n",
    "\n"
   ]
  },
  {
   "cell_type": "code",
   "execution_count": 20,
   "metadata": {},
   "outputs": [
    {
     "data": {
      "text/plain": [
       "0.7597402597402597"
      ]
     },
     "execution_count": 20,
     "metadata": {},
     "output_type": "execute_result"
    }
   ],
   "source": [
    "from sklearn.metrics import accuracy_score\n",
    "\n",
    "accuracy_score(y_test, y_pred)"
   ]
  },
  {
   "cell_type": "code",
   "execution_count": null,
   "metadata": {},
   "outputs": [],
   "source": []
  }
 ],
 "metadata": {
  "kernelspec": {
   "display_name": "Python 3",
   "language": "python",
   "name": "python3"
  },
  "language_info": {
   "codemirror_mode": {
    "name": "ipython",
    "version": 3
   },
   "file_extension": ".py",
   "mimetype": "text/x-python",
   "name": "python",
   "nbconvert_exporter": "python",
   "pygments_lexer": "ipython3",
   "version": "3.10.12"
  }
 },
 "nbformat": 4,
 "nbformat_minor": 2
}
